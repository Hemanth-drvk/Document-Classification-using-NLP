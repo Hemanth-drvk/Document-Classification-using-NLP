{
 "cells": [
  {
   "cell_type": "markdown",
   "metadata": {
    "colab_type": "text",
    "id": "BRtteY3D86Pq"
   },
   "source": [
    "### Document Classification\n",
    "\n",
    "We can  represent unstructured text as a vector of features each of which have an associated frequency count.  This allows us to to develop classification models using machine learning algorithms. Let’s use a subset newsgroups text to build a classification model and assess its accuracy."
   ]
  },
  {
   "cell_type": "code",
   "execution_count": 1,
   "metadata": {
    "colab": {},
    "colab_type": "code",
    "id": "I5yzPZDK86Pt"
   },
   "outputs": [],
   "source": [
    "from sklearn.datasets import fetch_20newsgroups\n",
    "from sklearn.feature_extraction.text import TfidfVectorizer\n",
    "from sklearn.preprocessing import Normalizer\n",
    "from sklearn import metrics\n",
    "import matplotlib.pyplot as plt\n",
    "from sklearn.cluster import KMeans, MiniBatchKMeans\n",
    "import numpy as np"
   ]
  },
  {
   "cell_type": "markdown",
   "metadata": {
    "colab_type": "text",
    "id": "P4SSFb5M86Py"
   },
   "source": [
    "### Load Data\n",
    "Download data from 20 news groups "
   ]
  },
  {
   "cell_type": "code",
   "execution_count": 2,
   "metadata": {
    "colab": {
     "base_uri": "https://localhost:8080/",
     "height": 55
    },
    "colab_type": "code",
    "executionInfo": {
     "elapsed": 868,
     "status": "ok",
     "timestamp": 1584746142324,
     "user": {
      "displayName": "Danny Silver",
      "photoUrl": "",
      "userId": "16434078982045343492"
     },
     "user_tz": 180
    },
    "id": "lO8_RaSW86Pz",
    "outputId": "8fd9d085-3a2d-4c45-c346-1622263c426e"
   },
   "outputs": [
    {
     "name": "stdout",
     "output_type": "stream",
     "text": [
      "['alt.atheism', 'comp.graphics', 'comp.os.ms-windows.misc', 'comp.sys.ibm.pc.hardware', 'comp.sys.mac.hardware', 'comp.windows.x', 'misc.forsale', 'rec.autos', 'rec.motorcycles', 'rec.sport.baseball', 'rec.sport.hockey', 'sci.crypt', 'sci.electronics', 'sci.med', 'sci.space', 'soc.religion.christian', 'talk.politics.guns', 'talk.politics.mideast', 'talk.politics.misc', 'talk.religion.misc']\n"
     ]
    }
   ],
   "source": [
    "newsgroups_train = fetch_20newsgroups(subset='train')\n",
    "print(list(newsgroups_train.target_names))\n",
    "\n",
    "newsgroups_test = fetch_20newsgroups(subset='train')"
   ]
  },
  {
   "cell_type": "markdown",
   "metadata": {
    "colab_type": "text",
    "id": "Q23Vn8xQ86P4"
   },
   "source": [
    "##Prepare the Data\n",
    "To keep it simple, let's filter only 5 of the 20 topics. \n",
    "We will then convert the unstructured text to a structured vector of thousands of features made up of the words from the documents.  Stop words like “is”, “the”, “it” wil be removed.  Please look up   Each feature has a TFIDF value tha can be used calculate probabilities. Look up the SKLearn's TfidfVectorizer function to see ways that you may improve the data preparation - https://scikit-learn.org/stable/modules/generated/sklearn.feature_extraction.text.TfidfVectorizer.html "
   ]
  },
  {
   "cell_type": "code",
   "execution_count": 3,
   "metadata": {
    "colab": {
     "base_uri": "https://localhost:8080/",
     "height": 173
    },
    "colab_type": "code",
    "executionInfo": {
     "elapsed": 3881,
     "status": "ok",
     "timestamp": 1584746145346,
     "user": {
      "displayName": "Danny Silver",
      "photoUrl": "",
      "userId": "16434078982045343492"
     },
     "user_tz": 180
    },
    "id": "gUcoc06Q86P4",
    "outputId": "0a230321-af15-4aa6-9bd1-24834bac6ca0"
   },
   "outputs": [
    {
     "name": "stdout",
     "output_type": "stream",
     "text": [
      "Train Dataset\n",
      "2801 documents\n",
      "5 categories\n",
      "n_samples: 2801, n_features: 241036\n",
      "\n",
      "Test Dataset\n",
      "1864 documents\n",
      "5 categories\n",
      "n_samples: 1864, n_features: 241036\n"
     ]
    }
   ],
   "source": [
    "#Categories     0               1                   2               3             4\n",
    "categories = ['alt.atheism', 'comp.graphics', 'rec.motorcycles', 'sci.space', 'talk.politics.guns']\n",
    "\n",
    "newsgroups_train = fetch_20newsgroups(subset='train', categories=categories, \n",
    "                                      shuffle=True, random_state=2017, remove=('headers', 'footers', 'quotes'))\n",
    "newsgroups_test = fetch_20newsgroups(subset='test', categories=categories, \n",
    "                                     shuffle=True, random_state=2017, remove=('headers', 'footers', 'quotes'))\n",
    "\n",
    "y_train = newsgroups_train.target\n",
    "y_test = newsgroups_test.target\n",
    "\n",
    "# Convert a collection of raw documents to a matrix of TF-IDF features\n",
    "#vectorizer = TfidfVectorizer()    # This one is the basic text to feature vector function, try some of the options\n",
    "#vectorizer = TfidfVectorizer(lowercase=False, stop_words='english')\n",
    "#vectorizer = TfidfVectorizer(smooth_idf = True, max_df=0.5, stop_words='english')\n",
    "#vectorizer = TfidfVectorizer(sublinear_tf=True, smooth_idf = True, max_df=0.5,  ngram_range=(1, 2), stop_words='english')\n",
    "\n",
    "#Using the below parameters\n",
    "vectorizer = TfidfVectorizer(lowercase = True, sublinear_tf=True, smooth_idf = True,decode_error = 'strict', max_df= 1.0 ,min_df = 1 ,ngram_range=(1, 2), stop_words='english')\n",
    "\n",
    "X_train = vectorizer.fit_transform(newsgroups_train.data)  # Learn vocabulary and idf, return term-document matrix.\n",
    "X_test = vectorizer.transform(newsgroups_test.data)        # Transform documents to term-document matrix.\n",
    "\n",
    "print(\"Train Dataset\")\n",
    "print(\"%d documents\" % len(newsgroups_train.data))\n",
    "print(\"%d categories\" % len(newsgroups_train.target_names))\n",
    "print(\"n_samples: %d, n_features: %d\" % X_train.shape)\n",
    "\n",
    "print(\"\\nTest Dataset\")\n",
    "print(\"%d documents\" % len(newsgroups_test.data))\n",
    "print(\"%d categories\" % len(newsgroups_test.target_names))\n",
    "print(\"n_samples: %d, n_features: %d\" % X_test.shape)"
   ]
  },
  {
   "cell_type": "markdown",
   "metadata": {
    "colab_type": "text",
    "id": "F6fiVUeD86P7"
   },
   "source": [
    "### Decision Tree Classifier Model\n",
    "Lets build a simple Decision Tree classifier and assess its performance on the train and independent test set.  This classifier can be replaced by any other SKLearn classification ML algorithm."
   ]
  },
  {
   "cell_type": "code",
   "execution_count": 4,
   "metadata": {
    "colab": {
     "base_uri": "https://localhost:8080/",
     "height": 535
    },
    "colab_type": "code",
    "executionInfo": {
     "elapsed": 3875,
     "status": "ok",
     "timestamp": 1584746145346,
     "user": {
      "displayName": "Danny Silver",
      "photoUrl": "",
      "userId": "16434078982045343492"
     },
     "user_tz": 180
    },
    "id": "8H27weer86P8",
    "outputId": "eb362c2a-2264-4e42-930b-f0ec0ee52426",
    "scrolled": false
   },
   "outputs": [
    {
     "name": "stdout",
     "output_type": "stream",
     "text": [
      "Categories: 0=alt.atheism, 1=comp.graphics, 2=rec.motorcycles, 3=sci.space, 4=talk.politics.guns\n",
      "\n",
      "Train accuracy_score:  97.9293109603713\n",
      "Test accuracy_score:  62.55364806866953\n",
      "Train Metrics: \n",
      "              precision    recall  f1-score   support\n",
      "\n",
      "           0       1.00      0.97      0.99       480\n",
      "           1       0.91      1.00      0.95       584\n",
      "           2       1.00      0.97      0.99       598\n",
      "           3       1.00      0.97      0.99       593\n",
      "           4       1.00      0.97      0.99       546\n",
      "\n",
      "    accuracy                           0.98      2801\n",
      "   macro avg       0.98      0.98      0.98      2801\n",
      "weighted avg       0.98      0.98      0.98      2801\n",
      "\n",
      "Test Metrics: \n",
      "              precision    recall  f1-score   support\n",
      "\n",
      "           0       0.61      0.53      0.56       319\n",
      "           1       0.56      0.75      0.64       389\n",
      "           2       0.67      0.66      0.66       398\n",
      "           3       0.64      0.59      0.61       394\n",
      "           4       0.68      0.59      0.63       364\n",
      "\n",
      "    accuracy                           0.63      1864\n",
      "   macro avg       0.63      0.62      0.62      1864\n",
      "weighted avg       0.63      0.63      0.62      1864\n",
      "\n"
     ]
    }
   ],
   "source": [
    "from sklearn.tree import DecisionTreeClassifier\n",
    "from sklearn import metrics\n",
    "\n",
    "clf = DecisionTreeClassifier(min_samples_split = 2 , max_depth = None , criterion = 'gini')\n",
    "clf = clf.fit(X_train, y_train)\n",
    "\n",
    "y_train_pred = clf.predict(X_train)\n",
    "y_test_pred = clf.predict(X_test)\n",
    "\n",
    "print(\"Categories: 0=alt.atheism, 1=comp.graphics, 2=rec.motorcycles, 3=sci.space, 4=talk.politics.guns\\n\")\n",
    "print('Train accuracy_score: ', metrics.accuracy_score(y_train, y_train_pred)*100)\n",
    "print('Test accuracy_score: ',metrics.accuracy_score(newsgroups_test.target, y_test_pred)*100)\n",
    "\n",
    "print(\"Train Metrics: \")\n",
    "print(metrics.classification_report(y_train, y_train_pred))\n",
    "print(\"Test Metrics: \")\n",
    "print(metrics.classification_report(newsgroups_test.target, y_test_pred))"
   ]
  },
  {
   "cell_type": "code",
   "execution_count": 5,
   "metadata": {
    "colab": {
     "base_uri": "https://localhost:8080/",
     "height": 363
    },
    "colab_type": "code",
    "executionInfo": {
     "elapsed": 3870,
     "status": "ok",
     "timestamp": 1584746145347,
     "user": {
      "displayName": "Danny Silver",
      "photoUrl": "",
      "userId": "16434078982045343492"
     },
     "user_tz": 180
    },
    "id": "xyjLOjNZKFsI",
    "outputId": "58cc3808-202b-459c-a071-df7371d0ca63"
   },
   "outputs": [
    {
     "name": "stdout",
     "output_type": "stream",
     "text": [
      "newsgroups_test example number 0 :\n",
      "\n",
      "\n",
      "\"This is your god\" (from John Carpenter's \"They Live,\" natch)\n",
      "\n",
      "\n",
      "\n",
      "The associated TFIDF vector:\n",
      "  (0, 41429)\t0.7324905761483669\n",
      "  (0, 94565)\t0.3616329637313677\n",
      "  (0, 117051)\t0.4303240882858953\n",
      "  (0, 129020)\t0.38405772279387107\n",
      "\n",
      "The model classifies this example as:\n",
      "Category =  [0] = alt.atheism\n"
     ]
    }
   ],
   "source": [
    "# Now let's look at one example.   Choose a test example by setting tx = value\n",
    "# Try 0, 1801, 531, 1500, 99, 777\n",
    "tx = 0\n",
    "\n",
    "print(\"newsgroups_test example number\", tx, \":\")\n",
    "print(newsgroups_test.data[tx])\n",
    "#print(X_test.shape)\n",
    "\n",
    "print(\"\\nThe associated TFIDF vector:\")\n",
    "print(X_test[tx])\n",
    "\n",
    "print(\"\\nThe model classifies this example as:\")\n",
    "y_test_example = clf.predict(X_test[tx])\n",
    "print(\"Category = \", y_test_example, \"=\", categories[int(y_test_example)])"
   ]
  },
  {
   "cell_type": "markdown",
   "metadata": {},
   "source": [
    "Rinda Digamarthi(157742d)"
   ]
  },
  {
   "cell_type": "code",
   "execution_count": null,
   "metadata": {},
   "outputs": [],
   "source": []
  }
 ],
 "metadata": {
  "anaconda-cloud": {},
  "colab": {
   "collapsed_sections": [],
   "name": "Document_Classification_NB.ipynb",
   "provenance": []
  },
  "kernelspec": {
   "display_name": "Python 3 (ipykernel)",
   "language": "python",
   "name": "python3"
  },
  "language_info": {
   "codemirror_mode": {
    "name": "ipython",
    "version": 3
   },
   "file_extension": ".py",
   "mimetype": "text/x-python",
   "name": "python",
   "nbconvert_exporter": "python",
   "pygments_lexer": "ipython3",
   "version": "3.8.0"
  },
  "varInspector": {
   "cols": {
    "lenName": 16,
    "lenType": 16,
    "lenVar": 40
   },
   "kernels_config": {
    "python": {
     "delete_cmd_postfix": "",
     "delete_cmd_prefix": "del ",
     "library": "var_list.py",
     "varRefreshCmd": "print(var_dic_list())"
    },
    "r": {
     "delete_cmd_postfix": ") ",
     "delete_cmd_prefix": "rm(",
     "library": "var_list.r",
     "varRefreshCmd": "cat(var_dic_list()) "
    }
   },
   "types_to_exclude": [
    "module",
    "function",
    "builtin_function_or_method",
    "instance",
    "_Feature"
   ],
   "window_display": false
  }
 },
 "nbformat": 4,
 "nbformat_minor": 1
}
